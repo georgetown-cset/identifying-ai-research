{
  "nbformat": 4,
  "nbformat_minor": 0,
  "metadata": {
    "colab": {
      "provenance": [],
      "authorship_tag": "ABX9TyPpNmMUusWHmmOGHQvMagqx",
      "include_colab_link": true
    },
    "kernelspec": {
      "name": "python3",
      "display_name": "Python 3"
    },
    "language_info": {
      "name": "python"
    }
  },
  "cells": [
    {
      "cell_type": "markdown",
      "metadata": {
        "id": "view-in-github",
        "colab_type": "text"
      },
      "source": [
        "<a href=\"https://colab.research.google.com/github/atoney-CSET/github-playground/blob/main/classification_results.ipynb\" target=\"_parent\"><img src=\"https://colab.research.google.com/assets/colab-badge.svg\" alt=\"Open In Colab\"/></a>"
      ]
    },
    {
      "cell_type": "code",
      "execution_count": 1,
      "metadata": {
        "colab": {
          "base_uri": "https://localhost:8080/"
        },
        "id": "4nAAdSFoCZxU",
        "outputId": "6bd02a67-41c1-4a8d-c32b-17c12fb0ae7d"
      },
      "outputs": [
        {
          "output_type": "stream",
          "name": "stdout",
          "text": [
            "Authenticated\n"
          ]
        }
      ],
      "source": [
        "#authenticate for BQ access\n",
        "from google.colab import auth\n",
        "auth.authenticate_user()\n",
        "print('Authenticated')"
      ]
    },
    {
      "cell_type": "code",
      "source": [
        "#Import packages\n",
        "from google.cloud import bigquery\n",
        "from sklearn.metrics import classification_report\n",
        "import pandas as pd"
      ],
      "metadata": {
        "id": "7Bh2zYQqFCT7"
      },
      "execution_count": 4,
      "outputs": []
    },
    {
      "cell_type": "code",
      "source": [
        "#Load data from BQ\n",
        "arxiv_results = pd.read_gbq(\"\"\"\n",
        "  select *\n",
        "  from identifying_ai_research.arxiv_results\n",
        "\"\"\", project_id=\"gcp-cset-projects\", use_bqstorage_api=True)\n",
        "\n",
        "arxiv_results['is_ai'] = arxiv_results['is_ai'].astype(int)\n",
        "\n",
        "#approach 1, keyword \n",
        "keyword_results = classification_report(arxiv_results[\"is_ai\"], arxiv_results[\"approach_1_keyword_search\"])\n",
        "\n",
        "#approach 2, classifier \n",
        "classifier_results = classification_report(arxiv_results[\"is_ai\"], arxiv_results[\"approach_2_classifier_identification\"])\n",
        "\n",
        "#approach 3, cluster\n",
        "cluster_results = classification_report(arxiv_results[\"is_ai\"], arxiv_results[\"approach_3_ai_cluster_assignment\"])\n",
        "\n",
        "#approach 4, mag \n",
        "mag_results = classification_report(arxiv_results[\"is_ai\"], arxiv_results[\"approach_4_mag\"])\n",
        "\n",
        "#Print results----\n",
        "\n",
        "print(\"Keyword Results --------- \\n {} \\n\".format(keyword_results))\n",
        "    \n",
        "print(\"Classifier Results --------- \\n {} \\n\".format(classifier_results))  \n",
        "    \n",
        "print(\"Cluster Results --------- \\n {} \\n\".format(cluster_results))  \n",
        "    \n",
        "print(\"MAG Results --------- \\n {} \\n\".format(mag_results))  "
      ],
      "metadata": {
        "colab": {
          "base_uri": "https://localhost:8080/"
        },
        "id": "rRo1gShlE6gI",
        "outputId": "d7f266df-10f2-4008-d8a6-4b9b441c5d0a"
      },
      "execution_count": 5,
      "outputs": [
        {
          "output_type": "stream",
          "name": "stdout",
          "text": [
            "Keyword Results --------- \n",
            "               precision    recall  f1-score   support\n",
            "\n",
            "           0       0.93      0.97      0.95   1014349\n",
            "           1       0.79      0.62      0.69    196968\n",
            "\n",
            "    accuracy                           0.91   1211317\n",
            "   macro avg       0.86      0.79      0.82   1211317\n",
            "weighted avg       0.91      0.91      0.91   1211317\n",
            " \n",
            "\n",
            "Classifier Results --------- \n",
            "               precision    recall  f1-score   support\n",
            "\n",
            "           0       0.97      0.98      0.98   1014349\n",
            "           1       0.90      0.87      0.88    196968\n",
            "\n",
            "    accuracy                           0.96   1211317\n",
            "   macro avg       0.94      0.92      0.93   1211317\n",
            "weighted avg       0.96      0.96      0.96   1211317\n",
            " \n",
            "\n",
            "Cluster Results --------- \n",
            "               precision    recall  f1-score   support\n",
            "\n",
            "           0       0.95      0.98      0.97   1014349\n",
            "           1       0.89      0.72      0.80    196968\n",
            "\n",
            "    accuracy                           0.94   1211317\n",
            "   macro avg       0.92      0.85      0.88   1211317\n",
            "weighted avg       0.94      0.94      0.94   1211317\n",
            " \n",
            "\n",
            "MAG Results --------- \n",
            "               precision    recall  f1-score   support\n",
            "\n",
            "           0       0.93      0.97      0.95   1014349\n",
            "           1       0.80      0.64      0.71    196968\n",
            "\n",
            "    accuracy                           0.92   1211317\n",
            "   macro avg       0.87      0.80      0.83   1211317\n",
            "weighted avg       0.91      0.92      0.91   1211317\n",
            " \n",
            "\n"
          ]
        }
      ]
    }
  ]
}