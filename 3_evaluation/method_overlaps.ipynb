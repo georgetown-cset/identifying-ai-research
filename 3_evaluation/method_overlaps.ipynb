{
  "nbformat": 4,
  "nbformat_minor": 0,
  "metadata": {
    "colab": {
      "provenance": [],
      "authorship_tag": "ABX9TyNBQhvgO7RgpWJJTUNl9PBN",
      "include_colab_link": true
    },
    "kernelspec": {
      "name": "python3",
      "display_name": "Python 3"
    },
    "language_info": {
      "name": "python"
    }
  },
  "cells": [
    {
      "cell_type": "markdown",
      "metadata": {
        "id": "view-in-github",
        "colab_type": "text"
      },
      "source": [
        "<a href=\"https://colab.research.google.com/github/atoney-CSET/github-playground/blob/main/overlap_results.ipynb\" target=\"_parent\"><img src=\"https://colab.research.google.com/assets/colab-badge.svg\" alt=\"Open In Colab\"/></a>"
      ]
    },
    {
      "cell_type": "code",
      "execution_count": 1,
      "metadata": {
        "colab": {
          "base_uri": "https://localhost:8080/"
        },
        "id": "53WwBA5wIYrR",
        "outputId": "33af70a8-20ba-4cd9-d25a-be1d50aefde1"
      },
      "outputs": [
        {
          "output_type": "stream",
          "name": "stdout",
          "text": [
            "Authenticated\n"
          ]
        }
      ],
      "source": [
        "#authenticate for BQ access\n",
        "from google.colab import auth\n",
        "auth.authenticate_user()\n",
        "print('Authenticated')"
      ]
    },
    {
      "cell_type": "code",
      "source": [
        "#Import Packages\n",
        "import pandas as pd\n",
        "from google.cloud import bigquery\n"
      ],
      "metadata": {
        "id": "L1tQ5rsYIZNw"
      },
      "execution_count": 2,
      "outputs": []
    },
    {
      "cell_type": "code",
      "source": [
        "method_labels = {\n",
        "    \"approach_1_keyword_search\": \"Keyword Search\",\n",
        "    \"approach_2_classifier_identification\": \"arXiv Classifier\",\n",
        "    \"approach_3_ai_cluster_assignment\": \"Map of Science\",\n",
        "    \"approach_4_mag\": \"Fields of Study\",\n",
        "}\n",
        "\n",
        "agreement_queries = {\n",
        "    method_label: f\"\"\"\n",
        "with predictions as (\n",
        "  select \n",
        "    merged_id, \n",
        "    max(approach_1_keyword_search) as approach_1_keyword_search,\n",
        "    max(approach_2_classifier_identification) as approach_2_classifier_identification,\n",
        "    max(approach_3_ai_cluster_assignment) as approach_3_ai_cluster_assignment,\n",
        "    max(approach_4_mag) as approach_4_mag,\n",
        "  from `cs2078_sandbox.researching_ai_analysis_subset`\n",
        "  where {method_col} = 1\n",
        "  group by merged_id\n",
        ")\n",
        "select \n",
        "  sum(approach_1_keyword_search) / count(*) as `Keyword Search`,\n",
        "  sum(approach_2_classifier_identification) / count(*) as `arXiv Classifier`,\n",
        "  sum(approach_3_ai_cluster_assignment) / count(*) as `Map of Science`,\n",
        "  sum(approach_4_mag) / count(*) as `Fields of Study`,\n",
        "  sum(if(\n",
        "    approach_1_keyword_search + \n",
        "    approach_2_classifier_identification +\n",
        "    approach_3_ai_cluster_assignment +\n",
        "    approach_4_mag = 1, 1, 0)) / count(*) as `Only`,\n",
        "from predictions\n",
        "\"\"\" for method_col, method_label in method_labels.items()}\n",
        "agreement = pd.concat({\n",
        "    method: pd.read_gbq(query, project_id=\"gcp-cset-projects\")\n",
        "    for method, query in agreement_queries.items()\n",
        "})\n",
        "\n",
        "print(agreement.transpose())"
      ],
      "metadata": {
        "colab": {
          "base_uri": "https://localhost:8080/"
        },
        "id": "MEngZ-eIIZd0",
        "outputId": "d5713414-585d-4d5a-c5ea-b7c237ec86f6"
      },
      "execution_count": 3,
      "outputs": [
        {
          "output_type": "stream",
          "name": "stdout",
          "text": [
            "                 Keyword Search arXiv Classifier Map of Science  \\\n",
            "                              0                0              0   \n",
            "Keyword Search         1.000000         0.501651       0.499360   \n",
            "arXiv Classifier       0.546267         1.000000       0.703524   \n",
            "Map of Science         0.347654         0.449789       1.000000   \n",
            "Fields of Study        0.494927         0.563334       0.641886   \n",
            "Only                   0.282594         0.227069       0.099088   \n",
            "\n",
            "                 Fields of Study  \n",
            "                               0  \n",
            "Keyword Search          0.453142  \n",
            "arXiv Classifier        0.561647  \n",
            "Map of Science          0.409153  \n",
            "Fields of Study         1.000000  \n",
            "Only                    0.220916  \n"
          ]
        }
      ]
    }
  ]
}