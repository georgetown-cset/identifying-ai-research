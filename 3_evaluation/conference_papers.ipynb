{
 "cells": [
  {
   "cell_type": "code",
   "execution_count": 1,
   "metadata": {
    "collapsed": true,
    "ExecuteTime": {
     "end_time": "2023-06-06T14:51:51.877893Z",
     "start_time": "2023-06-06T14:51:49.719953Z"
    }
   },
   "outputs": [],
   "source": [
    "# Calculate recall on conference paper corpus for each method\n",
    "import pandas as pd"
   ]
  },
  {
   "cell_type": "code",
   "execution_count": 3,
   "outputs": [],
   "source": [
    "recall = {}\n",
    "for method in ['keyword', 'cluster', 'field', 'ai_classifier']:\n",
    "    pct_ai = pd.read_gbq(f\"\"\"\n",
    "        select\n",
    "          is_ai,\n",
    "          count(*) as n,\n",
    "          round(count(*) / (sum(count(*)) over ()), 2) as pct\n",
    "        from identifying_ai_research.conference_corpus\n",
    "        left join identifying_ai_research.{method}_results using(merged_id)\n",
    "        group by is_ai\n",
    "    \"\"\")\n",
    "    recall[method] = pct_ai.query(\"is_ai == True\")"
   ],
   "metadata": {
    "collapsed": false,
    "ExecuteTime": {
     "end_time": "2023-06-06T14:52:37.575608Z",
     "start_time": "2023-06-06T14:52:30.801256Z"
    }
   }
  },
  {
   "cell_type": "code",
   "execution_count": 16,
   "outputs": [
    {
     "data": {
      "text/plain": "                 is_ai      n   pct\nfield         0   True  39243  0.44\nkeyword       1   True  44391  0.50\ncluster       1   True  67596  0.76\nai_classifier 1   True  71944  0.81",
      "text/html": "<div>\n<style scoped>\n    .dataframe tbody tr th:only-of-type {\n        vertical-align: middle;\n    }\n\n    .dataframe tbody tr th {\n        vertical-align: top;\n    }\n\n    .dataframe thead th {\n        text-align: right;\n    }\n</style>\n<table border=\"1\" class=\"dataframe\">\n  <thead>\n    <tr style=\"text-align: right;\">\n      <th></th>\n      <th></th>\n      <th>is_ai</th>\n      <th>n</th>\n      <th>pct</th>\n    </tr>\n  </thead>\n  <tbody>\n    <tr>\n      <th>field</th>\n      <th>0</th>\n      <td>True</td>\n      <td>39243</td>\n      <td>0.44</td>\n    </tr>\n    <tr>\n      <th>keyword</th>\n      <th>1</th>\n      <td>True</td>\n      <td>44391</td>\n      <td>0.50</td>\n    </tr>\n    <tr>\n      <th>cluster</th>\n      <th>1</th>\n      <td>True</td>\n      <td>67596</td>\n      <td>0.76</td>\n    </tr>\n    <tr>\n      <th>ai_classifier</th>\n      <th>1</th>\n      <td>True</td>\n      <td>71944</td>\n      <td>0.81</td>\n    </tr>\n  </tbody>\n</table>\n</div>"
     },
     "execution_count": 16,
     "metadata": {},
     "output_type": "execute_result"
    }
   ],
   "source": [
    "pd.concat(recall).sort_values('pct')"
   ],
   "metadata": {
    "collapsed": false,
    "ExecuteTime": {
     "end_time": "2023-06-06T14:54:10.508966Z",
     "start_time": "2023-06-06T14:54:10.501983Z"
    }
   }
  },
  {
   "cell_type": "code",
   "execution_count": null,
   "outputs": [],
   "source": [],
   "metadata": {
    "collapsed": false
   }
  }
 ],
 "metadata": {
  "kernelspec": {
   "display_name": "Python 3",
   "language": "python",
   "name": "python3"
  },
  "language_info": {
   "codemirror_mode": {
    "name": "ipython",
    "version": 2
   },
   "file_extension": ".py",
   "mimetype": "text/x-python",
   "name": "python",
   "nbconvert_exporter": "python",
   "pygments_lexer": "ipython2",
   "version": "2.7.6"
  }
 },
 "nbformat": 4,
 "nbformat_minor": 0
}
